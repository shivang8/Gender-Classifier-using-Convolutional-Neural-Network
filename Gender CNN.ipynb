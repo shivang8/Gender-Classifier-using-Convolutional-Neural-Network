{
  "nbformat": 4,
  "nbformat_minor": 0,
  "metadata": {
    "colab": {
      "name": "Gender Final.ipynb",
      "version": "0.3.2",
      "provenance": []
    },
    "kernelspec": {
      "name": "python3",
      "display_name": "Python 3"
    },
    "accelerator": "GPU"
  },
  "cells": [
    {
      "metadata": {
        "id": "HbHNe805wtbV",
        "colab_type": "code",
        "colab": {}
      },
      "cell_type": "code",
      "source": [
        "!apt-get install -y -qq software-properties-common python-software-properties module-init-tools\n",
        "!add-apt-repository -y ppa:alessandro-strada/ppa 2>&1 > /dev/null\n",
        "!apt-get update -qq 2>&1 > /dev/null\n",
        "!apt-get -y install -qq google-drive-ocamlfuse fuse\n",
        "from google.colab import auth\n",
        "auth.authenticate_user()\n",
        "from oauth2client.client import GoogleCredentials\n",
        "creds = GoogleCredentials.get_application_default()\n",
        "import getpass\n",
        "!google-drive-ocamlfuse -headless -id={creds.client_id} -secret={creds.client_secret} < /dev/null 2>&1 | grep URL\n",
        "vcode = getpass.getpass()\n",
        "!echo {vcode} | google-drive-ocamlfuse -headless -id={creds.client_id} -secret={creds.client_secret}"
      ],
      "execution_count": 0,
      "outputs": []
    },
    {
      "metadata": {
        "id": "tplkMO0AxWOt",
        "colab_type": "code",
        "colab": {}
      },
      "cell_type": "code",
      "source": [
        "!mkdir -p drive\n",
        "!google-drive-ocamlfuse drive"
      ],
      "execution_count": 0,
      "outputs": []
    },
    {
      "metadata": {
        "id": "x_0TeueGFuHZ",
        "colab_type": "code",
        "colab": {}
      },
      "cell_type": "code",
      "source": [
        "try:\n",
        "  del model\n",
        "except NameError:\n",
        "  pass"
      ],
      "execution_count": 0,
      "outputs": []
    },
    {
      "metadata": {
        "id": "MoPdlnVfx7K6",
        "colab_type": "code",
        "colab": {
          "base_uri": "https://localhost:8080/",
          "height": 33
        },
        "outputId": "e83d2f5e-2f99-47a4-a352-811a2bb7928e"
      },
      "cell_type": "code",
      "source": [
        "from keras.models import Sequential\n",
        "from keras.layers.core import Dense, Dropout, Activation, Flatten\n",
        "from keras.layers.convolutional import Convolution2D, MaxPooling2D\n",
        "from sklearn.model_selection import train_test_split\n",
        "import pandas as pd\n",
        "import numpy as np\n",
        "import keras"
      ],
      "execution_count": 4,
      "outputs": [
        {
          "output_type": "stream",
          "text": [
            "Using TensorFlow backend.\n"
          ],
          "name": "stderr"
        }
      ]
    },
    {
      "metadata": {
        "id": "A8NPSxDSwmuI",
        "colab_type": "code",
        "colab": {
          "base_uri": "https://localhost:8080/",
          "height": 53
        },
        "outputId": "4c240f55-e084-4ef5-9d6c-d8d06e69c553"
      },
      "cell_type": "code",
      "source": [
        "#Un-comment this section to download the dataset\n",
        "'''\n",
        "import urllib.request\n",
        "\n",
        "print('Beginning file download with urllib2...')\n",
        "\n",
        "url = 'http://datax.kennesaw.edu/imdb_wiki/imdb4p5.csv'  \n",
        "urllib.request.urlretrieve(url, 'drive/data/imdb.csv')\n",
        "'''"
      ],
      "execution_count": 5,
      "outputs": [
        {
          "output_type": "execute_result",
          "data": {
            "text/plain": [
              "\"\\nimport urllib.request\\n\\nprint('Beginning file download with urllib2...')\\n\\nurl = 'http://datax.kennesaw.edu/imdb_wiki/imdb4p5.csv'  \\nurllib.request.urlretrieve(url, 'drive/data/imdb.csv')\\n\""
            ]
          },
          "metadata": {
            "tags": []
          },
          "execution_count": 5
        }
      ]
    },
    {
      "metadata": {
        "id": "IDhKX7xux8C8",
        "colab_type": "code",
        "colab": {}
      },
      "cell_type": "code",
      "source": [
        "data = pd.read_csv('drive/data/imdb4p5.csv')\n",
        "#data = pd.read_csv('drive/data/wiki5.csv')"
      ],
      "execution_count": 0,
      "outputs": []
    },
    {
      "metadata": {
        "id": "cZ2Gyk7JyHZZ",
        "colab_type": "code",
        "colab": {
          "base_uri": "https://localhost:8080/",
          "height": 225
        },
        "outputId": "d6c30cfe-8071-4085-e042-25f2d38ee50a"
      },
      "cell_type": "code",
      "source": [
        "data.head()\n",
        "#data.shape"
      ],
      "execution_count": 7,
      "outputs": [
        {
          "output_type": "execute_result",
          "data": {
            "text/html": [
              "<div>\n",
              "<style scoped>\n",
              "    .dataframe tbody tr th:only-of-type {\n",
              "        vertical-align: middle;\n",
              "    }\n",
              "\n",
              "    .dataframe tbody tr th {\n",
              "        vertical-align: top;\n",
              "    }\n",
              "\n",
              "    .dataframe thead th {\n",
              "        text-align: right;\n",
              "    }\n",
              "</style>\n",
              "<table border=\"1\" class=\"dataframe\">\n",
              "  <thead>\n",
              "    <tr style=\"text-align: right;\">\n",
              "      <th></th>\n",
              "      <th>Unnamed: 0</th>\n",
              "      <th>gender</th>\n",
              "      <th>age</th>\n",
              "      <th>px0</th>\n",
              "      <th>px1</th>\n",
              "      <th>px2</th>\n",
              "      <th>px3</th>\n",
              "      <th>px4</th>\n",
              "      <th>px5</th>\n",
              "      <th>px6</th>\n",
              "      <th>...</th>\n",
              "      <th>px9990</th>\n",
              "      <th>px9991</th>\n",
              "      <th>px9992</th>\n",
              "      <th>px9993</th>\n",
              "      <th>px9994</th>\n",
              "      <th>px9995</th>\n",
              "      <th>px9996</th>\n",
              "      <th>px9997</th>\n",
              "      <th>px9998</th>\n",
              "      <th>px9999</th>\n",
              "    </tr>\n",
              "  </thead>\n",
              "  <tbody>\n",
              "    <tr>\n",
              "      <th>0</th>\n",
              "      <td>0</td>\n",
              "      <td>0</td>\n",
              "      <td>49</td>\n",
              "      <td>16</td>\n",
              "      <td>15</td>\n",
              "      <td>17</td>\n",
              "      <td>18</td>\n",
              "      <td>15</td>\n",
              "      <td>15</td>\n",
              "      <td>15</td>\n",
              "      <td>...</td>\n",
              "      <td>11</td>\n",
              "      <td>23</td>\n",
              "      <td>193</td>\n",
              "      <td>132</td>\n",
              "      <td>11</td>\n",
              "      <td>5</td>\n",
              "      <td>12</td>\n",
              "      <td>12</td>\n",
              "      <td>14</td>\n",
              "      <td>14</td>\n",
              "    </tr>\n",
              "    <tr>\n",
              "      <th>1</th>\n",
              "      <td>1</td>\n",
              "      <td>0</td>\n",
              "      <td>81</td>\n",
              "      <td>47</td>\n",
              "      <td>48</td>\n",
              "      <td>49</td>\n",
              "      <td>47</td>\n",
              "      <td>49</td>\n",
              "      <td>51</td>\n",
              "      <td>51</td>\n",
              "      <td>...</td>\n",
              "      <td>33</td>\n",
              "      <td>33</td>\n",
              "      <td>33</td>\n",
              "      <td>33</td>\n",
              "      <td>33</td>\n",
              "      <td>33</td>\n",
              "      <td>33</td>\n",
              "      <td>33</td>\n",
              "      <td>33</td>\n",
              "      <td>32</td>\n",
              "    </tr>\n",
              "    <tr>\n",
              "      <th>2</th>\n",
              "      <td>2</td>\n",
              "      <td>0</td>\n",
              "      <td>81</td>\n",
              "      <td>19</td>\n",
              "      <td>19</td>\n",
              "      <td>19</td>\n",
              "      <td>19</td>\n",
              "      <td>19</td>\n",
              "      <td>19</td>\n",
              "      <td>19</td>\n",
              "      <td>...</td>\n",
              "      <td>8</td>\n",
              "      <td>8</td>\n",
              "      <td>8</td>\n",
              "      <td>7</td>\n",
              "      <td>6</td>\n",
              "      <td>5</td>\n",
              "      <td>8</td>\n",
              "      <td>4</td>\n",
              "      <td>227</td>\n",
              "      <td>217</td>\n",
              "    </tr>\n",
              "    <tr>\n",
              "      <th>3</th>\n",
              "      <td>3</td>\n",
              "      <td>0</td>\n",
              "      <td>80</td>\n",
              "      <td>0</td>\n",
              "      <td>0</td>\n",
              "      <td>0</td>\n",
              "      <td>0</td>\n",
              "      <td>0</td>\n",
              "      <td>0</td>\n",
              "      <td>0</td>\n",
              "      <td>...</td>\n",
              "      <td>36</td>\n",
              "      <td>59</td>\n",
              "      <td>39</td>\n",
              "      <td>19</td>\n",
              "      <td>9</td>\n",
              "      <td>27</td>\n",
              "      <td>25</td>\n",
              "      <td>24</td>\n",
              "      <td>24</td>\n",
              "      <td>24</td>\n",
              "    </tr>\n",
              "    <tr>\n",
              "      <th>4</th>\n",
              "      <td>4</td>\n",
              "      <td>1</td>\n",
              "      <td>37</td>\n",
              "      <td>184</td>\n",
              "      <td>191</td>\n",
              "      <td>199</td>\n",
              "      <td>201</td>\n",
              "      <td>195</td>\n",
              "      <td>197</td>\n",
              "      <td>198</td>\n",
              "      <td>...</td>\n",
              "      <td>230</td>\n",
              "      <td>228</td>\n",
              "      <td>226</td>\n",
              "      <td>226</td>\n",
              "      <td>224</td>\n",
              "      <td>221</td>\n",
              "      <td>217</td>\n",
              "      <td>217</td>\n",
              "      <td>211</td>\n",
              "      <td>205</td>\n",
              "    </tr>\n",
              "  </tbody>\n",
              "</table>\n",
              "<p>5 rows × 10003 columns</p>\n",
              "</div>"
            ],
            "text/plain": [
              "   Unnamed: 0  gender  age  px0  px1  px2  px3  px4  px5  px6   ...    px9990  \\\n",
              "0           0       0   49   16   15   17   18   15   15   15   ...        11   \n",
              "1           1       0   81   47   48   49   47   49   51   51   ...        33   \n",
              "2           2       0   81   19   19   19   19   19   19   19   ...         8   \n",
              "3           3       0   80    0    0    0    0    0    0    0   ...        36   \n",
              "4           4       1   37  184  191  199  201  195  197  198   ...       230   \n",
              "\n",
              "   px9991  px9992  px9993  px9994  px9995  px9996  px9997  px9998  px9999  \n",
              "0      23     193     132      11       5      12      12      14      14  \n",
              "1      33      33      33      33      33      33      33      33      32  \n",
              "2       8       8       7       6       5       8       4     227     217  \n",
              "3      59      39      19       9      27      25      24      24      24  \n",
              "4     228     226     226     224     221     217     217     211     205  \n",
              "\n",
              "[5 rows x 10003 columns]"
            ]
          },
          "metadata": {
            "tags": []
          },
          "execution_count": 7
        }
      ]
    },
    {
      "metadata": {
        "id": "vN-Bpa7ay-2m",
        "colab_type": "code",
        "colab": {}
      },
      "cell_type": "code",
      "source": [
        "df_x = data.iloc[:,3:].values.reshape(len(data),100,100,1)\n",
        "\n",
        "y = data.iloc[:,1].values\n",
        "\n",
        "del data"
      ],
      "execution_count": 0,
      "outputs": []
    },
    {
      "metadata": {
        "id": "R0JK1A60zRdW",
        "colab_type": "code",
        "colab": {}
      },
      "cell_type": "code",
      "source": [
        "df_y = keras.utils.to_categorical(y,num_classes=2)"
      ],
      "execution_count": 0,
      "outputs": []
    },
    {
      "metadata": {
        "id": "C48H3EyhzgMs",
        "colab_type": "code",
        "colab": {}
      },
      "cell_type": "code",
      "source": [
        "df_x = np.array(df_x)\n",
        "df_y = np.array(df_y)"
      ],
      "execution_count": 0,
      "outputs": []
    },
    {
      "metadata": {
        "id": "PuN8bfiAzuuF",
        "colab_type": "code",
        "colab": {
          "base_uri": "https://localhost:8080/",
          "height": 33
        },
        "outputId": "1199e7c8-b4f2-47d4-c551-52ba6e7f9193"
      },
      "cell_type": "code",
      "source": [
        "df_x.shape"
      ],
      "execution_count": 11,
      "outputs": [
        {
          "output_type": "execute_result",
          "data": {
            "text/plain": [
              "(33147, 100, 100, 1)"
            ]
          },
          "metadata": {
            "tags": []
          },
          "execution_count": 11
        }
      ]
    },
    {
      "metadata": {
        "id": "H6tEVBZN0TWs",
        "colab_type": "code",
        "colab": {
          "base_uri": "https://localhost:8080/",
          "height": 50
        },
        "outputId": "152898b7-b2cb-4eaf-99c3-9814c64c0ceb"
      },
      "cell_type": "code",
      "source": [
        "x_train, x_test, y_train, y_test = train_test_split(df_x,df_y,test_size=0.3,random_state=4)\n",
        "\n",
        "del df_x\n",
        "del df_y\n",
        "\n",
        "print(x_train.shape)\n",
        "print(x_test.shape)"
      ],
      "execution_count": 12,
      "outputs": [
        {
          "output_type": "stream",
          "text": [
            "(23202, 100, 100, 1)\n",
            "(9945, 100, 100, 1)\n"
          ],
          "name": "stdout"
        }
      ]
    },
    {
      "metadata": {
        "id": "JUMPZVV5z3lx",
        "colab_type": "code",
        "colab": {}
      },
      "cell_type": "code",
      "source": [
        "#CNN MODEL\n",
        "\n",
        "model = Sequential()\n",
        "model.add(Convolution2D(64,3,data_format='channels_last',activation='relu',input_shape=(100,100,1)))\n",
        "model.add(MaxPooling2D(pool_size=(2,2)))\n",
        "model.add(Convolution2D(32,3,data_format='channels_last',activation='relu'))\n",
        "model.add(MaxPooling2D(pool_size=(2,2)))\n",
        "model.add(Convolution2D(16,3,data_format='channels_last',activation='relu'))\n",
        "model.add(MaxPooling2D(pool_size=(2,2)))\n",
        "model.add(Convolution2D(8,3,data_format='channels_last',activation='relu'))\n",
        "model.add(MaxPooling2D(pool_size=(2,2)))\n",
        "model.add(Convolution2D(4,3,data_format='channels_last',activation='relu'))\n",
        "model.add(MaxPooling2D(pool_size=(2,2)))\n",
        "\n",
        "model.add(Flatten())\n",
        "model.add(Dense(100))\n",
        "model.add(Activation('sigmoid'))\n",
        "model.add(Dropout(0.5))\n",
        "model.add(Dense(2))\n",
        "model.add(Activation('softmax'))\n",
        "model.compile(loss='categorical_crossentropy',optimizer = 'adadelta', metrics = ['accuracy'])"
      ],
      "execution_count": 0,
      "outputs": []
    },
    {
      "metadata": {
        "id": "l1hdi7t90HAK",
        "colab_type": "code",
        "colab": {
          "base_uri": "https://localhost:8080/",
          "height": 669
        },
        "outputId": "802223f2-6448-4fe4-c507-843eaba9c8a5"
      },
      "cell_type": "code",
      "source": [
        "model.summary()"
      ],
      "execution_count": 14,
      "outputs": [
        {
          "output_type": "stream",
          "text": [
            "_________________________________________________________________\n",
            "Layer (type)                 Output Shape              Param #   \n",
            "=================================================================\n",
            "conv2d_1 (Conv2D)            (None, 98, 98, 64)        640       \n",
            "_________________________________________________________________\n",
            "max_pooling2d_1 (MaxPooling2 (None, 49, 49, 64)        0         \n",
            "_________________________________________________________________\n",
            "conv2d_2 (Conv2D)            (None, 47, 47, 32)        18464     \n",
            "_________________________________________________________________\n",
            "max_pooling2d_2 (MaxPooling2 (None, 23, 23, 32)        0         \n",
            "_________________________________________________________________\n",
            "conv2d_3 (Conv2D)            (None, 21, 21, 16)        4624      \n",
            "_________________________________________________________________\n",
            "max_pooling2d_3 (MaxPooling2 (None, 10, 10, 16)        0         \n",
            "_________________________________________________________________\n",
            "conv2d_4 (Conv2D)            (None, 8, 8, 8)           1160      \n",
            "_________________________________________________________________\n",
            "max_pooling2d_4 (MaxPooling2 (None, 4, 4, 8)           0         \n",
            "_________________________________________________________________\n",
            "conv2d_5 (Conv2D)            (None, 2, 2, 4)           292       \n",
            "_________________________________________________________________\n",
            "max_pooling2d_5 (MaxPooling2 (None, 1, 1, 4)           0         \n",
            "_________________________________________________________________\n",
            "flatten_1 (Flatten)          (None, 4)                 0         \n",
            "_________________________________________________________________\n",
            "dense_1 (Dense)              (None, 100)               500       \n",
            "_________________________________________________________________\n",
            "activation_1 (Activation)    (None, 100)               0         \n",
            "_________________________________________________________________\n",
            "dropout_1 (Dropout)          (None, 100)               0         \n",
            "_________________________________________________________________\n",
            "dense_2 (Dense)              (None, 2)                 202       \n",
            "_________________________________________________________________\n",
            "activation_2 (Activation)    (None, 2)                 0         \n",
            "=================================================================\n",
            "Total params: 25,882\n",
            "Trainable params: 25,882\n",
            "Non-trainable params: 0\n",
            "_________________________________________________________________\n"
          ],
          "name": "stdout"
        }
      ]
    },
    {
      "metadata": {
        "id": "oFE5h_EM0MMs",
        "colab_type": "code",
        "colab": {
          "base_uri": "https://localhost:8080/",
          "height": 719
        },
        "outputId": "9a0f79b3-d970-47de-d391-1c72f5578af3"
      },
      "cell_type": "code",
      "source": [
        "#model.fit(x_train[:2001], y_train[:2001], validation_data=(x_test[:21], y_test[:21]), epochs=5)\n",
        "\n",
        "model.fit(x_train, y_train, validation_data=(x_test, y_test), epochs=20, batch_size=200)"
      ],
      "execution_count": 15,
      "outputs": [
        {
          "output_type": "stream",
          "text": [
            "Train on 23202 samples, validate on 9945 samples\n",
            "Epoch 1/20\n",
            "23202/23202 [==============================] - 26s 1ms/step - loss: 0.7386 - acc: 0.5577 - val_loss: 0.5969 - val_acc: 0.6968\n",
            "Epoch 2/20\n",
            "23202/23202 [==============================] - 20s 876us/step - loss: 0.5151 - acc: 0.7553 - val_loss: 0.4677 - val_acc: 0.7826\n",
            "Epoch 3/20\n",
            "23202/23202 [==============================] - 20s 879us/step - loss: 0.3592 - acc: 0.8503 - val_loss: 0.2969 - val_acc: 0.8789\n",
            "Epoch 4/20\n",
            "23202/23202 [==============================] - 20s 878us/step - loss: 0.2642 - acc: 0.8974 - val_loss: 0.2181 - val_acc: 0.9139\n",
            "Epoch 5/20\n",
            "23202/23202 [==============================] - 20s 880us/step - loss: 0.2024 - acc: 0.9248 - val_loss: 0.1801 - val_acc: 0.9333\n",
            "Epoch 6/20\n",
            "23202/23202 [==============================] - 20s 882us/step - loss: 0.1684 - acc: 0.9402 - val_loss: 0.3623 - val_acc: 0.8450\n",
            "Epoch 7/20\n",
            "23202/23202 [==============================] - 20s 876us/step - loss: 0.1435 - acc: 0.9503 - val_loss: 0.1451 - val_acc: 0.9476\n",
            "Epoch 8/20\n",
            "23202/23202 [==============================] - 20s 879us/step - loss: 0.1309 - acc: 0.9551 - val_loss: 0.1501 - val_acc: 0.9477\n",
            "Epoch 9/20\n",
            "23202/23202 [==============================] - 20s 878us/step - loss: 0.1231 - acc: 0.9575 - val_loss: 0.1377 - val_acc: 0.9521\n",
            "Epoch 10/20\n",
            "23202/23202 [==============================] - 20s 877us/step - loss: 0.1160 - acc: 0.9616 - val_loss: 0.1321 - val_acc: 0.9540\n",
            "Epoch 11/20\n",
            "23202/23202 [==============================] - 21s 885us/step - loss: 0.1075 - acc: 0.9642 - val_loss: 0.1713 - val_acc: 0.9363\n",
            "Epoch 12/20\n",
            "23202/23202 [==============================] - 20s 879us/step - loss: 0.1016 - acc: 0.9671 - val_loss: 0.1336 - val_acc: 0.9536\n",
            "Epoch 13/20\n",
            "23202/23202 [==============================] - 20s 878us/step - loss: 0.0971 - acc: 0.9686 - val_loss: 0.1500 - val_acc: 0.9521\n",
            "Epoch 14/20\n",
            "23202/23202 [==============================] - 20s 875us/step - loss: 0.0908 - acc: 0.9700 - val_loss: 0.1685 - val_acc: 0.9398\n",
            "Epoch 15/20\n",
            "23202/23202 [==============================] - 20s 875us/step - loss: 0.0880 - acc: 0.9727 - val_loss: 0.1352 - val_acc: 0.9548\n",
            "Epoch 16/20\n",
            "23202/23202 [==============================] - 20s 872us/step - loss: 0.0816 - acc: 0.9740 - val_loss: 0.1498 - val_acc: 0.9517\n",
            "Epoch 17/20\n",
            "23202/23202 [==============================] - 20s 872us/step - loss: 0.0778 - acc: 0.9759 - val_loss: 0.1202 - val_acc: 0.9624\n",
            "Epoch 18/20\n",
            "23202/23202 [==============================] - 20s 872us/step - loss: 0.0771 - acc: 0.9766 - val_loss: 0.1325 - val_acc: 0.9585\n",
            "Epoch 19/20\n",
            "23202/23202 [==============================] - 20s 874us/step - loss: 0.0729 - acc: 0.9778 - val_loss: 0.1214 - val_acc: 0.9614\n",
            "Epoch 20/20\n",
            "23202/23202 [==============================] - 20s 875us/step - loss: 0.0705 - acc: 0.9788 - val_loss: 0.1276 - val_acc: 0.9580\n"
          ],
          "name": "stdout"
        },
        {
          "output_type": "execute_result",
          "data": {
            "text/plain": [
              "<keras.callbacks.History at 0x7f2d72ebd0f0>"
            ]
          },
          "metadata": {
            "tags": []
          },
          "execution_count": 15
        }
      ]
    },
    {
      "metadata": {
        "id": "Rd8XJvpy4PBN",
        "colab_type": "code",
        "colab": {
          "base_uri": "https://localhost:8080/",
          "height": 50
        },
        "outputId": "34930651-88e7-4de8-c1c1-363d9450d5a8"
      },
      "cell_type": "code",
      "source": [
        "#np.savez('drive/data/X',x_train,x_test,y_train,y_test)\n",
        "model.evaluate(x_test,y_test)"
      ],
      "execution_count": 16,
      "outputs": [
        {
          "output_type": "stream",
          "text": [
            "9945/9945 [==============================] - 4s 451us/step\n"
          ],
          "name": "stdout"
        },
        {
          "output_type": "execute_result",
          "data": {
            "text/plain": [
              "[0.12759868322514362, 0.957968828503123]"
            ]
          },
          "metadata": {
            "tags": []
          },
          "execution_count": 16
        }
      ]
    },
    {
      "metadata": {
        "id": "H9ig84Z75a9U",
        "colab_type": "code",
        "colab": {
          "base_uri": "https://localhost:8080/",
          "height": 134
        },
        "outputId": "092b42b3-86ac-46fc-9353-28d6a16ff6ea"
      },
      "cell_type": "code",
      "source": [
        "from sklearn.metrics import classification_report, confusion_matrix\n",
        "\n",
        "y_pred = model.predict_classes(x_test)\n",
        "print(classification_report(np.argmax(y_test,axis=1),y_pred))"
      ],
      "execution_count": 18,
      "outputs": [
        {
          "output_type": "stream",
          "text": [
            "             precision    recall  f1-score   support\n",
            "\n",
            "          0       0.96      0.97      0.96      5656\n",
            "          1       0.96      0.94      0.95      4289\n",
            "\n",
            "avg / total       0.96      0.96      0.96      9945\n",
            "\n"
          ],
          "name": "stdout"
        }
      ]
    },
    {
      "metadata": {
        "id": "V-ymHhX33-Pu",
        "colab_type": "code",
        "colab": {
          "base_uri": "https://localhost:8080/",
          "height": 50
        },
        "outputId": "51e39306-9975-4503-a97e-35e047f47c38"
      },
      "cell_type": "code",
      "source": [
        "print(confusion_matrix(np.argmax(y_test,axis=1),y_pred))"
      ],
      "execution_count": 19,
      "outputs": [
        {
          "output_type": "stream",
          "text": [
            "[[5478  178]\n",
            " [ 240 4049]]\n"
          ],
          "name": "stdout"
        }
      ]
    }
  ]
}